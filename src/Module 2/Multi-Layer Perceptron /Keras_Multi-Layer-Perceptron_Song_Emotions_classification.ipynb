{
 "cells": [
  {
   "cell_type": "code",
   "execution_count": 484,
   "metadata": {},
   "outputs": [],
   "source": [
    "%matplotlib inline\n",
    "\n",
    "import os,sys,inspect\n",
    "\n",
    "PATH = '/Users/gaetanoantonicchio/Documents/GitHub/DataMining-2'\n",
    "sys.path.insert(0, PATH)\n",
    "\n",
    "import pandas as pd\n",
    "import numpy as np\n",
    "import seaborn as sns\n",
    "\n",
    "# sklearn modules\n",
    "from sklearn import preprocessing\n",
    "from sklearn.model_selection import train_test_split, RepeatedKFold\n",
    "from sklearn.preprocessing import StandardScaler, MinMaxScaler\n",
    "from sklearn.metrics import accuracy_score, f1_score, classification_report\n",
    "from sklearn.metrics import plot_confusion_matrix\n",
    "\n",
    "from sklearn.pipeline import Pipeline\n",
    "from keras.optimizers import SGD, Adam\n",
    "from keras.layers import Dense, Input, Dropout, Activation\n",
    "from keras import Sequential\n",
    "from keras.wrappers.scikit_learn import KerasClassifier\n",
    "from sklearn.model_selection import StratifiedKFold\n",
    "\n",
    "import plotly.express as px\n",
    "import matplotlib.pyplot as plt\n",
    "from fma_metadata import utils\n",
    "\n",
    "import warnings\n",
    "warnings.filterwarnings('ignore')"
   ]
  },
  {
   "cell_type": "markdown",
   "metadata": {},
   "source": [
    "#### Preprocessing"
   ]
  },
  {
   "cell_type": "code",
   "execution_count": 485,
   "metadata": {},
   "outputs": [
    {
     "data": {
      "text/html": [
       "<div>\n",
       "<style scoped>\n",
       "    .dataframe tbody tr th:only-of-type {\n",
       "        vertical-align: middle;\n",
       "    }\n",
       "\n",
       "    .dataframe tbody tr th {\n",
       "        vertical-align: top;\n",
       "    }\n",
       "\n",
       "    .dataframe thead th {\n",
       "        text-align: right;\n",
       "    }\n",
       "</style>\n",
       "<table border=\"1\" class=\"dataframe\">\n",
       "  <thead>\n",
       "    <tr style=\"text-align: right;\">\n",
       "      <th></th>\n",
       "      <th>(chroma_cens, kurtosis, 01)</th>\n",
       "      <th>(chroma_cens, kurtosis, 02)</th>\n",
       "      <th>(chroma_cens, kurtosis, 03)</th>\n",
       "      <th>(chroma_cens, kurtosis, 04)</th>\n",
       "      <th>(chroma_cens, kurtosis, 05)</th>\n",
       "      <th>(chroma_cens, kurtosis, 06)</th>\n",
       "      <th>(chroma_cens, kurtosis, 07)</th>\n",
       "      <th>(chroma_cens, kurtosis, 08)</th>\n",
       "      <th>(chroma_cens, kurtosis, 09)</th>\n",
       "      <th>(chroma_cens, kurtosis, 10)</th>\n",
       "      <th>...</th>\n",
       "      <th>(tonnetz, std, 05)</th>\n",
       "      <th>(tonnetz, std, 06)</th>\n",
       "      <th>(zcr, kurtosis, 01)</th>\n",
       "      <th>(zcr, max, 01)</th>\n",
       "      <th>(zcr, mean, 01)</th>\n",
       "      <th>(zcr, median, 01)</th>\n",
       "      <th>(zcr, min, 01)</th>\n",
       "      <th>(zcr, skew, 01)</th>\n",
       "      <th>(zcr, std, 01)</th>\n",
       "      <th>valence</th>\n",
       "    </tr>\n",
       "    <tr>\n",
       "      <th>track_id</th>\n",
       "      <th></th>\n",
       "      <th></th>\n",
       "      <th></th>\n",
       "      <th></th>\n",
       "      <th></th>\n",
       "      <th></th>\n",
       "      <th></th>\n",
       "      <th></th>\n",
       "      <th></th>\n",
       "      <th></th>\n",
       "      <th></th>\n",
       "      <th></th>\n",
       "      <th></th>\n",
       "      <th></th>\n",
       "      <th></th>\n",
       "      <th></th>\n",
       "      <th></th>\n",
       "      <th></th>\n",
       "      <th></th>\n",
       "      <th></th>\n",
       "      <th></th>\n",
       "    </tr>\n",
       "  </thead>\n",
       "  <tbody>\n",
       "    <tr>\n",
       "      <th>2</th>\n",
       "      <td>7.180653</td>\n",
       "      <td>5.230309</td>\n",
       "      <td>0.249321</td>\n",
       "      <td>1.347620</td>\n",
       "      <td>1.482478</td>\n",
       "      <td>0.531371</td>\n",
       "      <td>1.481593</td>\n",
       "      <td>2.691455</td>\n",
       "      <td>0.866868</td>\n",
       "      <td>1.341231</td>\n",
       "      <td>...</td>\n",
       "      <td>0.012226</td>\n",
       "      <td>0.012111</td>\n",
       "      <td>5.758890</td>\n",
       "      <td>0.459473</td>\n",
       "      <td>0.085629</td>\n",
       "      <td>0.071289</td>\n",
       "      <td>0.0</td>\n",
       "      <td>2.089872</td>\n",
       "      <td>0.061448</td>\n",
       "      <td>happy</td>\n",
       "    </tr>\n",
       "    <tr>\n",
       "      <th>3</th>\n",
       "      <td>1.888963</td>\n",
       "      <td>0.760539</td>\n",
       "      <td>0.345297</td>\n",
       "      <td>2.295201</td>\n",
       "      <td>1.654031</td>\n",
       "      <td>0.067592</td>\n",
       "      <td>1.366848</td>\n",
       "      <td>1.054094</td>\n",
       "      <td>0.108103</td>\n",
       "      <td>0.619185</td>\n",
       "      <td>...</td>\n",
       "      <td>0.014212</td>\n",
       "      <td>0.017740</td>\n",
       "      <td>2.824694</td>\n",
       "      <td>0.466309</td>\n",
       "      <td>0.084578</td>\n",
       "      <td>0.063965</td>\n",
       "      <td>0.0</td>\n",
       "      <td>1.716724</td>\n",
       "      <td>0.069330</td>\n",
       "      <td>sad</td>\n",
       "    </tr>\n",
       "    <tr>\n",
       "      <th>5</th>\n",
       "      <td>0.527563</td>\n",
       "      <td>-0.077654</td>\n",
       "      <td>-0.279610</td>\n",
       "      <td>0.685883</td>\n",
       "      <td>1.937570</td>\n",
       "      <td>0.880839</td>\n",
       "      <td>-0.923192</td>\n",
       "      <td>-0.927232</td>\n",
       "      <td>0.666617</td>\n",
       "      <td>1.038546</td>\n",
       "      <td>...</td>\n",
       "      <td>0.012691</td>\n",
       "      <td>0.014759</td>\n",
       "      <td>6.808415</td>\n",
       "      <td>0.375000</td>\n",
       "      <td>0.053114</td>\n",
       "      <td>0.041504</td>\n",
       "      <td>0.0</td>\n",
       "      <td>2.193303</td>\n",
       "      <td>0.044861</td>\n",
       "      <td>happy</td>\n",
       "    </tr>\n",
       "    <tr>\n",
       "      <th>10</th>\n",
       "      <td>3.702245</td>\n",
       "      <td>-0.291193</td>\n",
       "      <td>2.196742</td>\n",
       "      <td>-0.234449</td>\n",
       "      <td>1.367364</td>\n",
       "      <td>0.998411</td>\n",
       "      <td>1.770694</td>\n",
       "      <td>1.604566</td>\n",
       "      <td>0.521217</td>\n",
       "      <td>1.982386</td>\n",
       "      <td>...</td>\n",
       "      <td>0.017952</td>\n",
       "      <td>0.013921</td>\n",
       "      <td>21.434212</td>\n",
       "      <td>0.452148</td>\n",
       "      <td>0.077515</td>\n",
       "      <td>0.071777</td>\n",
       "      <td>0.0</td>\n",
       "      <td>3.542325</td>\n",
       "      <td>0.040800</td>\n",
       "      <td>happy</td>\n",
       "    </tr>\n",
       "    <tr>\n",
       "      <th>134</th>\n",
       "      <td>0.918445</td>\n",
       "      <td>0.674147</td>\n",
       "      <td>0.577818</td>\n",
       "      <td>1.281117</td>\n",
       "      <td>0.933746</td>\n",
       "      <td>0.078177</td>\n",
       "      <td>1.199204</td>\n",
       "      <td>-0.175223</td>\n",
       "      <td>0.925482</td>\n",
       "      <td>1.438509</td>\n",
       "      <td>...</td>\n",
       "      <td>0.016322</td>\n",
       "      <td>0.015819</td>\n",
       "      <td>4.731087</td>\n",
       "      <td>0.419434</td>\n",
       "      <td>0.064370</td>\n",
       "      <td>0.050781</td>\n",
       "      <td>0.0</td>\n",
       "      <td>1.806106</td>\n",
       "      <td>0.054623</td>\n",
       "      <td>happy</td>\n",
       "    </tr>\n",
       "  </tbody>\n",
       "</table>\n",
       "<p>5 rows × 519 columns</p>\n",
       "</div>"
      ],
      "text/plain": [
       "          (chroma_cens, kurtosis, 01)  (chroma_cens, kurtosis, 02)  \\\n",
       "track_id                                                             \n",
       "2                            7.180653                     5.230309   \n",
       "3                            1.888963                     0.760539   \n",
       "5                            0.527563                    -0.077654   \n",
       "10                           3.702245                    -0.291193   \n",
       "134                          0.918445                     0.674147   \n",
       "\n",
       "          (chroma_cens, kurtosis, 03)  (chroma_cens, kurtosis, 04)  \\\n",
       "track_id                                                             \n",
       "2                            0.249321                     1.347620   \n",
       "3                            0.345297                     2.295201   \n",
       "5                           -0.279610                     0.685883   \n",
       "10                           2.196742                    -0.234449   \n",
       "134                          0.577818                     1.281117   \n",
       "\n",
       "          (chroma_cens, kurtosis, 05)  (chroma_cens, kurtosis, 06)  \\\n",
       "track_id                                                             \n",
       "2                            1.482478                     0.531371   \n",
       "3                            1.654031                     0.067592   \n",
       "5                            1.937570                     0.880839   \n",
       "10                           1.367364                     0.998411   \n",
       "134                          0.933746                     0.078177   \n",
       "\n",
       "          (chroma_cens, kurtosis, 07)  (chroma_cens, kurtosis, 08)  \\\n",
       "track_id                                                             \n",
       "2                            1.481593                     2.691455   \n",
       "3                            1.366848                     1.054094   \n",
       "5                           -0.923192                    -0.927232   \n",
       "10                           1.770694                     1.604566   \n",
       "134                          1.199204                    -0.175223   \n",
       "\n",
       "          (chroma_cens, kurtosis, 09)  (chroma_cens, kurtosis, 10)  ...  \\\n",
       "track_id                                                            ...   \n",
       "2                            0.866868                     1.341231  ...   \n",
       "3                            0.108103                     0.619185  ...   \n",
       "5                            0.666617                     1.038546  ...   \n",
       "10                           0.521217                     1.982386  ...   \n",
       "134                          0.925482                     1.438509  ...   \n",
       "\n",
       "          (tonnetz, std, 05)  (tonnetz, std, 06)  (zcr, kurtosis, 01)  \\\n",
       "track_id                                                                \n",
       "2                   0.012226            0.012111             5.758890   \n",
       "3                   0.014212            0.017740             2.824694   \n",
       "5                   0.012691            0.014759             6.808415   \n",
       "10                  0.017952            0.013921            21.434212   \n",
       "134                 0.016322            0.015819             4.731087   \n",
       "\n",
       "          (zcr, max, 01)  (zcr, mean, 01)  (zcr, median, 01)  (zcr, min, 01)  \\\n",
       "track_id                                                                       \n",
       "2               0.459473         0.085629           0.071289             0.0   \n",
       "3               0.466309         0.084578           0.063965             0.0   \n",
       "5               0.375000         0.053114           0.041504             0.0   \n",
       "10              0.452148         0.077515           0.071777             0.0   \n",
       "134             0.419434         0.064370           0.050781             0.0   \n",
       "\n",
       "          (zcr, skew, 01)  (zcr, std, 01)  valence  \n",
       "track_id                                            \n",
       "2                2.089872        0.061448    happy  \n",
       "3                1.716724        0.069330      sad  \n",
       "5                2.193303        0.044861    happy  \n",
       "10               3.542325        0.040800    happy  \n",
       "134              1.806106        0.054623    happy  \n",
       "\n",
       "[5 rows x 519 columns]"
      ]
     },
     "execution_count": 485,
     "metadata": {},
     "output_type": "execute_result"
    }
   ],
   "source": [
    "# read data: features\n",
    "data = utils.load('/Users/gaetanoantonicchio/Desktop/dataset_DM2/fma_metadata/features.csv')\n",
    "\n",
    "# read labels: song_happiness\n",
    "labels = pd.read_csv('/Users/gaetanoantonicchio/Documents/GitHub/DataMining-2/src/Data (cleaned)/Labels/song_happiness_labels.csv')\n",
    "label= labels.set_index('track_id')\n",
    "\n",
    "# merge labels with data\n",
    "data = data.merge(labels, on='track_id')\n",
    "\n",
    "# remove duplicate rows\n",
    "data.drop_duplicates(keep=False, inplace=True)\n",
    "# remove Null values (if there are)\n",
    "data.dropna()\n",
    "\n",
    "# reset index to track_id\n",
    "data = data.set_index('track_id')\n",
    "\n",
    "# view data\n",
    "data.head()"
   ]
  },
  {
   "cell_type": "code",
   "execution_count": 486,
   "metadata": {},
   "outputs": [
    {
     "data": {
      "text/plain": [
       "sad      7724\n",
       "happy    5405\n",
       "Name: valence, dtype: int64"
      ]
     },
     "execution_count": 486,
     "metadata": {},
     "output_type": "execute_result"
    }
   ],
   "source": [
    "# check number of records per class\n",
    "data.valence.value_counts()"
   ]
  },
  {
   "cell_type": "code",
   "execution_count": 487,
   "metadata": {},
   "outputs": [
    {
     "data": {
      "text/plain": [
       "1    7724\n",
       "0    5405\n",
       "Name: valence, dtype: int64"
      ]
     },
     "execution_count": 487,
     "metadata": {},
     "output_type": "execute_result"
    }
   ],
   "source": [
    "le = preprocessing.LabelEncoder()\n",
    "data['valence'] = le.fit_transform(data['valence'])\n",
    "data.valence.value_counts()"
   ]
  },
  {
   "cell_type": "markdown",
   "metadata": {},
   "source": [
    "LEGEND <BR>\n",
    "1: sad <br>\n",
    "0: happy"
   ]
  },
  {
   "cell_type": "code",
   "execution_count": 488,
   "metadata": {},
   "outputs": [],
   "source": [
    "# remove labels from dataset \n",
    "labels = data[['valence']]\n",
    "data.drop('valence', axis=1, inplace=True)"
   ]
  },
  {
   "cell_type": "code",
   "execution_count": 489,
   "metadata": {},
   "outputs": [
    {
     "data": {
      "text/html": [
       "<div>\n",
       "<style scoped>\n",
       "    .dataframe tbody tr th:only-of-type {\n",
       "        vertical-align: middle;\n",
       "    }\n",
       "\n",
       "    .dataframe tbody tr th {\n",
       "        vertical-align: top;\n",
       "    }\n",
       "\n",
       "    .dataframe thead th {\n",
       "        text-align: right;\n",
       "    }\n",
       "</style>\n",
       "<table border=\"1\" class=\"dataframe\">\n",
       "  <thead>\n",
       "    <tr style=\"text-align: right;\">\n",
       "      <th></th>\n",
       "      <th>valence</th>\n",
       "    </tr>\n",
       "    <tr>\n",
       "      <th>track_id</th>\n",
       "      <th></th>\n",
       "    </tr>\n",
       "  </thead>\n",
       "  <tbody>\n",
       "    <tr>\n",
       "      <th>2</th>\n",
       "      <td>0</td>\n",
       "    </tr>\n",
       "    <tr>\n",
       "      <th>3</th>\n",
       "      <td>1</td>\n",
       "    </tr>\n",
       "    <tr>\n",
       "      <th>5</th>\n",
       "      <td>0</td>\n",
       "    </tr>\n",
       "    <tr>\n",
       "      <th>10</th>\n",
       "      <td>0</td>\n",
       "    </tr>\n",
       "    <tr>\n",
       "      <th>134</th>\n",
       "      <td>0</td>\n",
       "    </tr>\n",
       "    <tr>\n",
       "      <th>...</th>\n",
       "      <td>...</td>\n",
       "    </tr>\n",
       "    <tr>\n",
       "      <th>124857</th>\n",
       "      <td>0</td>\n",
       "    </tr>\n",
       "    <tr>\n",
       "      <th>124862</th>\n",
       "      <td>1</td>\n",
       "    </tr>\n",
       "    <tr>\n",
       "      <th>124863</th>\n",
       "      <td>1</td>\n",
       "    </tr>\n",
       "    <tr>\n",
       "      <th>124864</th>\n",
       "      <td>0</td>\n",
       "    </tr>\n",
       "    <tr>\n",
       "      <th>124911</th>\n",
       "      <td>1</td>\n",
       "    </tr>\n",
       "  </tbody>\n",
       "</table>\n",
       "<p>13129 rows × 1 columns</p>\n",
       "</div>"
      ],
      "text/plain": [
       "          valence\n",
       "track_id         \n",
       "2               0\n",
       "3               1\n",
       "5               0\n",
       "10              0\n",
       "134             0\n",
       "...           ...\n",
       "124857          0\n",
       "124862          1\n",
       "124863          1\n",
       "124864          0\n",
       "124911          1\n",
       "\n",
       "[13129 rows x 1 columns]"
      ]
     },
     "execution_count": 489,
     "metadata": {},
     "output_type": "execute_result"
    }
   ],
   "source": [
    "# preview labels\n",
    "labels"
   ]
  },
  {
   "cell_type": "code",
   "execution_count": 491,
   "metadata": {},
   "outputs": [],
   "source": [
    "data = np.array(data)\n",
    "labels=np.array(labels)"
   ]
  },
  {
   "cell_type": "code",
   "execution_count": 492,
   "metadata": {},
   "outputs": [
    {
     "data": {
      "text/plain": [
       "array([[ 7.18065262e+00,  5.23030901e+00,  2.49320805e-01, ...,\n",
       "         0.00000000e+00,  2.08987212e+00,  6.14481084e-02],\n",
       "       [ 1.88896334e+00,  7.60539293e-01,  3.45296562e-01, ...,\n",
       "         0.00000000e+00,  1.71672380e+00,  6.93301633e-02],\n",
       "       [ 5.27562976e-01, -7.76543170e-02, -2.79610306e-01, ...,\n",
       "         0.00000000e+00,  2.19330311e+00,  4.48606014e-02],\n",
       "       ...,\n",
       "       [ 4.43874672e-02, -2.35208139e-01,  9.63845029e-02, ...,\n",
       "         1.95312500e-03,  1.96102118e+00,  3.52281034e-02],\n",
       "       [-7.51019001e-01,  2.66916680e+00,  1.02221727e-01, ...,\n",
       "         0.00000000e+00,  1.94983971e+00,  3.58997248e-02],\n",
       "       [-1.30098629e+00, -6.41399980e-01, -1.38426518e+00, ...,\n",
       "         0.00000000e+00,  4.30246782e+00,  7.72547349e-03]])"
      ]
     },
     "execution_count": 492,
     "metadata": {},
     "output_type": "execute_result"
    }
   ],
   "source": [
    "data"
   ]
  },
  {
   "cell_type": "code",
   "execution_count": 493,
   "metadata": {},
   "outputs": [
    {
     "data": {
      "text/plain": [
       "array([[0],\n",
       "       [1],\n",
       "       [0],\n",
       "       ...,\n",
       "       [1],\n",
       "       [0],\n",
       "       [1]])"
      ]
     },
     "execution_count": 493,
     "metadata": {},
     "output_type": "execute_result"
    }
   ],
   "source": [
    "labels"
   ]
  },
  {
   "cell_type": "markdown",
   "metadata": {},
   "source": [
    "## Partition Data into: Development set and Internal Test set"
   ]
  },
  {
   "cell_type": "code",
   "execution_count": 786,
   "metadata": {},
   "outputs": [],
   "source": [
    "# split data in traning and test\n",
    "X_dev, X_test, y_dev, y_test = train_test_split(data, labels, test_size=0.30, random_state=42, stratify=labels,\n",
    "                                                   shuffle=True) "
   ]
  },
  {
   "cell_type": "code",
   "execution_count": 787,
   "metadata": {},
   "outputs": [],
   "source": [
    "X_train, X_test_int, y_train, y_test_int = train_test_split(X_dev, y_dev, test_size=0.3, random_state=42, shuffle=True)"
   ]
  },
  {
   "cell_type": "code",
   "execution_count": 788,
   "metadata": {},
   "outputs": [
    {
     "data": {
      "text/plain": [
       "((6433, 518), (6433, 1))"
      ]
     },
     "execution_count": 788,
     "metadata": {},
     "output_type": "execute_result"
    }
   ],
   "source": [
    "X_train.shape, y_train.shape"
   ]
  },
  {
   "cell_type": "code",
   "execution_count": 789,
   "metadata": {},
   "outputs": [
    {
     "data": {
      "text/plain": [
       "((2757, 518), (2757, 1))"
      ]
     },
     "execution_count": 789,
     "metadata": {},
     "output_type": "execute_result"
    }
   ],
   "source": [
    "X_test_int.shape, y_test_int.shape"
   ]
  },
  {
   "cell_type": "code",
   "execution_count": 790,
   "metadata": {},
   "outputs": [
    {
     "data": {
      "text/plain": [
       "((3939, 518), (3939, 1))"
      ]
     },
     "execution_count": 790,
     "metadata": {},
     "output_type": "execute_result"
    }
   ],
   "source": [
    "X_test.shape, y_test.shape"
   ]
  },
  {
   "cell_type": "code",
   "execution_count": 791,
   "metadata": {},
   "outputs": [],
   "source": [
    "# normalize data\n",
    "scaler = StandardScaler()\n",
    "\n",
    "scaler.fit(X_train)\n",
    "X_train = scaler.transform(X_train)\n",
    "X_test_int = scaler.transform(X_test_int) #fit only on X_train to don't get biased with information of X_test\n",
    "X_test = scaler.transform(X_test)\n",
    "\n",
    "X_dev = np.array(X_dev)\n",
    "X_test = np.array(X_test)\n",
    "y_test = np.array(y_test)\n",
    "y_dev = np.array(y_dev)"
   ]
  },
  {
   "cell_type": "code",
   "execution_count": 792,
   "metadata": {},
   "outputs": [],
   "source": [
    "scaler.fit(X_dev)\n",
    "X_dev = scaler.transform(X_dev)"
   ]
  },
  {
   "cell_type": "markdown",
   "metadata": {},
   "source": [
    "# Create Neural Network : Keras"
   ]
  },
  {
   "cell_type": "markdown",
   "metadata": {},
   "source": [
    "To understand how the model behaves, several configurations have been tested so to get an idea of the search-space in which to start looking for the optimal hyperparameters.<br>\n",
    "#### Validation Schema<br>\n",
    "The data are split into **Development set** (70%) and **Test set**(30%). The latter was never used during the model selection phase, and was employed only once when we tested the final model.<br>\n",
    "The Development set was further split into **Training set**(70%) and **Internal Test Set**(30%).<br> The Training set was used for **Model selection** which was performed using a **5 fold cross validation**, during which the mentioned set was continoulsy split into training and validation set. Once we selected the best model we estimated its goodness on the Internal Test set, which worked as a tool for understanding how the model behaved on unseen data. <br>\n",
    "After the Model selection phase was completed, the selected model was retrained on the full development set (Traing set + Internal test set) and then tested on the Test set.\n"
   ]
  },
  {
   "cell_type": "code",
   "execution_count": 557,
   "metadata": {},
   "outputs": [
    {
     "name": "stdout",
     "output_type": "stream",
     "text": [
      "number of inputs: 518\n",
      "number of patterns: 6433\n"
     ]
    }
   ],
   "source": [
    "input_dim = X_train.shape[1]\n",
    "target_dim = y_train.shape[0]\n",
    "\n",
    "print(f\"number of inputs: {input_dim}\\nnumber of patterns: {X_train.shape[0]}\")\n"
   ]
  },
  {
   "cell_type": "code",
   "execution_count": 532,
   "metadata": {},
   "outputs": [],
   "source": [
    "#from sklearn.utils import shuffle\n",
    "\n",
    "#shuffle data\n",
    "#X_dev, y_dev =  shuffle(X_dev, y_dev)        # the data were already shuffled when the split was performed."
   ]
  },
  {
   "cell_type": "code",
   "execution_count": 533,
   "metadata": {},
   "outputs": [
    {
     "data": {
      "text/plain": [
       "array([[-0.4102098 , -0.18898484, -0.40005718, ...,  0.42287475,\n",
       "        -0.41929255, -0.90969019],\n",
       "       [-0.20209235,  0.05789601, -0.02287232, ..., -0.60468182,\n",
       "        -0.60286949, -0.72218753],\n",
       "       [-0.5352439 , -0.19446588, -0.48561702, ...,  1.32198675,\n",
       "        -0.659094  , -1.27062304],\n",
       "       ...,\n",
       "       [-0.16135706, -0.07797338, -0.27957911, ..., -0.60468182,\n",
       "        -0.34864444,  0.28083105],\n",
       "       [-0.51967746, -0.52791701, -0.1976743 , ...,  0.16598561,\n",
       "        -0.24961236, -0.95337147],\n",
       "       [ 0.12500434,  0.3066854 ,  0.20158073, ..., -0.60468182,\n",
       "        -0.00854719,  0.99581673]])"
      ]
     },
     "execution_count": 533,
     "metadata": {},
     "output_type": "execute_result"
    }
   ],
   "source": [
    "X_train"
   ]
  },
  {
   "cell_type": "markdown",
   "metadata": {},
   "source": [
    "##  Screening phase - Deep Network (518, 50, 50, 50, 1)\n",
    "### SGD + L2 Regularization"
   ]
  },
  {
   "cell_type": "code",
   "execution_count": 534,
   "metadata": {},
   "outputs": [],
   "source": [
    "#help(Dense)"
   ]
  },
  {
   "cell_type": "code",
   "execution_count": 558,
   "metadata": {},
   "outputs": [],
   "source": [
    "from tensorflow.keras import regularizers"
   ]
  },
  {
   "cell_type": "code",
   "execution_count": 734,
   "metadata": {},
   "outputs": [],
   "source": [
    "def MLP_deep():\n",
    "    initializer = tf.keras.initializers.GlorotNormal()\n",
    "    input_dim = X_train.shape[1]\n",
    "    \n",
    "    model = Sequential()\n",
    "    model.add(Dense(50, activation='relu', input_dim=input_dim,kernel_initializer=initializer, kernel_regularizer=regularizers.l2(0.01)))\n",
    "    model.add(Dense(50, activation='relu',kernel_initializer=initializer,kernel_regularizer=regularizers.l2(0.06)))\n",
    "    model.add(Dense(50, activation='relu',kernel_initializer=initializer,kernel_regularizer=regularizers.l2(0.06)))\n",
    "\n",
    "    #output layer\n",
    "    model.add(Dense(1, activation='sigmoid',kernel_initializer=initializer))\n",
    "\n",
    "    return model"
   ]
  },
  {
   "cell_type": "code",
   "execution_count": 735,
   "metadata": {},
   "outputs": [
    {
     "name": "stdout",
     "output_type": "stream",
     "text": [
      "Model: \"sequential_124\"\n",
      "_________________________________________________________________\n",
      "Layer (type)                 Output Shape              Param #   \n",
      "=================================================================\n",
      "dense_371 (Dense)            (None, 50)                25950     \n",
      "_________________________________________________________________\n",
      "dense_372 (Dense)            (None, 50)                2550      \n",
      "_________________________________________________________________\n",
      "dense_373 (Dense)            (None, 50)                2550      \n",
      "_________________________________________________________________\n",
      "dense_374 (Dense)            (None, 1)                 51        \n",
      "=================================================================\n",
      "Total params: 31,101\n",
      "Trainable params: 31,101\n",
      "Non-trainable params: 0\n",
      "_________________________________________________________________\n"
     ]
    }
   ],
   "source": [
    "model_deep = MLP_deep()\n",
    "\n",
    "# define optimizer\n",
    "sgd = SGD(learning_rate=0.001, momentum=0.7, nesterov=True\n",
    ")\n",
    "model_deep.compile(optimizer=sgd, loss='binary_crossentropy', metrics=['accuracy'])\n",
    "# print model information\n",
    "model_deep.summary()"
   ]
  },
  {
   "cell_type": "markdown",
   "metadata": {},
   "source": [
    "With higher value of learning_rate the model goes in overflow"
   ]
  },
  {
   "cell_type": "code",
   "execution_count": 736,
   "metadata": {
    "scrolled": false
   },
   "outputs": [],
   "source": [
    "history_deep = model_deep.fit(X_train, y_train, epochs= 300, validation_split=0.3, batch_size=120, shuffle=True,verbose=False).history"
   ]
  },
  {
   "cell_type": "code",
   "execution_count": 737,
   "metadata": {},
   "outputs": [
    {
     "data": {
      "text/plain": [
       "<matplotlib.legend.Legend at 0x7fb224d8b910>"
      ]
     },
     "execution_count": 737,
     "metadata": {},
     "output_type": "execute_result"
    },
    {
     "data": {
      "image/png": "[encoded data removed]",
      "text/plain": [
       "<Figure size 432x288 with 1 Axes>"
      ]
     },
     "metadata": {
      "needs_background": "light"
     },
     "output_type": "display_data"
    }
   ],
   "source": [
    "# training-validation loss\n",
    "plt.plot(history_deep['loss'], label='training')\n",
    "plt.plot(history_deep['val_loss'], label='validation')\n",
    "plt.xlabel('epochs')\n",
    "plt.ylabel('loss')\n",
    "plt.legend()"
   ]
  },
  {
   "cell_type": "markdown",
   "metadata": {},
   "source": [
    "The L2 regularization limited the overfitting and the learning curves are stable. However the loss seems to be still quite high. "
   ]
  },
  {
   "cell_type": "code",
   "execution_count": 738,
   "metadata": {},
   "outputs": [
    {
     "data": {
      "text/plain": [
       "<matplotlib.legend.Legend at 0x7fb25dce6e10>"
      ]
     },
     "execution_count": 738,
     "metadata": {},
     "output_type": "execute_result"
    },
    {
     "data": {
      "image/png": "[encoded data removed]",
      "text/plain": [
       "<Figure size 432x288 with 1 Axes>"
      ]
     },
     "metadata": {
      "needs_background": "light"
     },
     "output_type": "display_data"
    }
   ],
   "source": [
    "# training-validation accuracy\n",
    "plt.plot(history_deep['accuracy'], label='training')\n",
    "plt.plot(history_deep['val_accuracy'], label='validation')\n",
    "plt.xlabel('epochs')\n",
    "plt.ylabel('accuracy')\n",
    "plt.legend()"
   ]
  },
  {
   "cell_type": "code",
   "execution_count": 739,
   "metadata": {},
   "outputs": [
    {
     "name": "stdout",
     "output_type": "stream",
     "text": [
      "87/87 - 0s\n",
      "Accuracy 0.7584330794341676\n",
      "F1-score [0.70053957 0.79756839]\n",
      "              precision    recall  f1-score   support\n",
      "\n",
      "           0       0.71      0.69      0.70      1132\n",
      "           1       0.79      0.81      0.80      1625\n",
      "\n",
      "    accuracy                           0.76      2757\n",
      "   macro avg       0.75      0.75      0.75      2757\n",
      "weighted avg       0.76      0.76      0.76      2757\n",
      "\n"
     ]
    }
   ],
   "source": [
    "# internal test \n",
    "threshold = 0.50\n",
    "# convert prediciton to binary \n",
    "y_pred = model_deep.predict(X_test_int, verbose=2)\n",
    "y_pred = y_pred > threshold\n",
    "\n",
    "print('Accuracy %s' % accuracy_score(y_test_int, y_pred))\n",
    "print('F1-score %s' % f1_score(y_test_int, y_pred, average=None))\n",
    "print(classification_report(y_test_int, y_pred))"
   ]
  },
  {
   "cell_type": "markdown",
   "metadata": {},
   "source": [
    "## Adam + L2 regularization"
   ]
  },
  {
   "cell_type": "code",
   "execution_count": 585,
   "metadata": {},
   "outputs": [],
   "source": [
    "def MLP_adam():\n",
    "    initializer = tf.keras.initializers.GlorotNormal()\n",
    "    input_dim = X_train.shape[1]\n",
    "    \n",
    "    model = Sequential()\n",
    "    model.add(Dense(50, activation='relu', input_dim=input_dim,kernel_initializer=initializer, kernel_regularizer=regularizers.l2(0.05)))\n",
    "    model.add(Dense(50, activation='relu',kernel_initializer=initializer,kernel_regularizer=regularizers.l2(0.05)))\n",
    "    model.add(Dense(50, activation='relu',kernel_initializer=initializer,kernel_regularizer=regularizers.l2(0.05)))\n",
    "    \n",
    "    #output layer\n",
    "    model.add(Dense(1, activation='sigmoid',kernel_initializer=initializer))\n",
    "\n",
    "    return model"
   ]
  },
  {
   "cell_type": "code",
   "execution_count": 586,
   "metadata": {},
   "outputs": [
    {
     "name": "stdout",
     "output_type": "stream",
     "text": [
      "Model: \"sequential_93\"\n",
      "_________________________________________________________________\n",
      "Layer (type)                 Output Shape              Param #   \n",
      "=================================================================\n",
      "dense_291 (Dense)            (None, 50)                25950     \n",
      "_________________________________________________________________\n",
      "dense_292 (Dense)            (None, 50)                2550      \n",
      "_________________________________________________________________\n",
      "dense_293 (Dense)            (None, 50)                2550      \n",
      "_________________________________________________________________\n",
      "dense_294 (Dense)            (None, 1)                 51        \n",
      "=================================================================\n",
      "Total params: 31,101\n",
      "Trainable params: 31,101\n",
      "Non-trainable params: 0\n",
      "_________________________________________________________________\n"
     ]
    }
   ],
   "source": [
    "model_adam = MLP_adam()\n",
    "\n",
    "# define optimizer\n",
    "adam = Adam(learning_rate=0.001)\n",
    "\n",
    "model_adam.compile(optimizer=adam, loss='binary_crossentropy', metrics=['accuracy'])\n",
    "# print model information\n",
    "model_adam.summary()"
   ]
  },
  {
   "cell_type": "code",
   "execution_count": 814,
   "metadata": {},
   "outputs": [],
   "source": [
    "history_adam = model_adam.fit(X_train, y_train, epochs= 200, validation_split=0.3, batch_size=20, shuffle=True).history"
   ]
  },
  {
   "cell_type": "code",
   "execution_count": 588,
   "metadata": {},
   "outputs": [
    {
     "data": {
      "text/plain": [
       "<matplotlib.legend.Legend at 0x7fb20e5cc890>"
      ]
     },
     "execution_count": 588,
     "metadata": {},
     "output_type": "execute_result"
    },
    {
     "data": {
      "image/png": "[encoded data removed]",
      "text/plain": [
       "<Figure size 432x288 with 1 Axes>"
      ]
     },
     "metadata": {
      "needs_background": "light"
     },
     "output_type": "display_data"
    }
   ],
   "source": [
    "# training-validation loss\n",
    "plt.plot(history_adam['loss'], label='training')\n",
    "plt.plot(history_adam['val_loss'], label='validation')\n",
    "plt.xlabel('epochs')\n",
    "plt.ylabel('loss')\n",
    "plt.legend()"
   ]
  },
  {
   "cell_type": "markdown",
   "metadata": {},
   "source": [
    "Using Adam we notice a slight overfitting and learning curve more unstable. "
   ]
  },
  {
   "cell_type": "code",
   "execution_count": 589,
   "metadata": {},
   "outputs": [
    {
     "data": {
      "text/plain": [
       "<matplotlib.legend.Legend at 0x7fb220542ed0>"
      ]
     },
     "execution_count": 589,
     "metadata": {},
     "output_type": "execute_result"
    },
    {
     "data": {
      "image/png": "[encoded data removed]",
      "text/plain": [
       "<Figure size 432x288 with 1 Axes>"
      ]
     },
     "metadata": {
      "needs_background": "light"
     },
     "output_type": "display_data"
    }
   ],
   "source": [
    "# training-validation accuracy\n",
    "plt.plot(history_adam['accuracy'], label='training')\n",
    "plt.plot(history_adam['val_accuracy'], label='validation')\n",
    "plt.xlabel('epochs')\n",
    "plt.ylabel('accuracy')\n",
    "plt.legend()"
   ]
  },
  {
   "cell_type": "code",
   "execution_count": 590,
   "metadata": {},
   "outputs": [
    {
     "name": "stdout",
     "output_type": "stream",
     "text": [
      "87/87 - 0s\n",
      "Accuracy 0.7381211461733769\n",
      "F1-score [0.63498483 0.79581448]\n",
      "              precision    recall  f1-score   support\n",
      "\n",
      "           0       0.74      0.55      0.63      1132\n",
      "           1       0.74      0.87      0.80      1625\n",
      "\n",
      "    accuracy                           0.74      2757\n",
      "   macro avg       0.74      0.71      0.72      2757\n",
      "weighted avg       0.74      0.74      0.73      2757\n",
      "\n"
     ]
    }
   ],
   "source": [
    "# internal test \n",
    "threshold = 0.50\n",
    "# convert prediciton to binary \n",
    "y_pred = model_adam.predict(X_test_int, verbose=2)\n",
    "y_pred = y_pred > threshold\n",
    "\n",
    "print('Accuracy %s' % accuracy_score(y_test_int, y_pred))\n",
    "print('F1-score %s' % f1_score(y_test_int, y_pred, average=None))\n",
    "print(classification_report(y_test_int, y_pred))"
   ]
  },
  {
   "cell_type": "markdown",
   "metadata": {},
   "source": [
    "On the dataset the performance of SGD seems to be better than Adam. "
   ]
  },
  {
   "cell_type": "markdown",
   "metadata": {},
   "source": [
    "## Models : (518, 60, 20, 1)\n",
    "### SGD + L2 regularization"
   ]
  },
  {
   "cell_type": "code",
   "execution_count": 706,
   "metadata": {},
   "outputs": [],
   "source": [
    "def MLP_shallow():\n",
    "    initializer = tf.keras.initializers.GlorotNormal()\n",
    "    input_dim = X_train.shape[1]\n",
    "    \n",
    "    model = Sequential()\n",
    "    model.add(Dense(60, activation='relu', input_dim=input_dim,kernel_initializer=initializer, kernel_regularizer=regularizers.l2(0.12)))    \n",
    "    model.add(Dense(20, activation='relu', input_dim=input_dim,kernel_initializer=initializer, kernel_regularizer=regularizers.l2(0.09)))    \n",
    "\n",
    "    #output layer\n",
    "    model.add(Dense(1, activation='sigmoid',kernel_initializer=initializer))\n",
    "\n",
    "    return model"
   ]
  },
  {
   "cell_type": "code",
   "execution_count": 707,
   "metadata": {},
   "outputs": [
    {
     "name": "stdout",
     "output_type": "stream",
     "text": [
      "Model: \"sequential_120\"\n",
      "_________________________________________________________________\n",
      "Layer (type)                 Output Shape              Param #   \n",
      "=================================================================\n",
      "dense_357 (Dense)            (None, 60)                31140     \n",
      "_________________________________________________________________\n",
      "dense_358 (Dense)            (None, 20)                1220      \n",
      "_________________________________________________________________\n",
      "dense_359 (Dense)            (None, 1)                 21        \n",
      "=================================================================\n",
      "Total params: 32,381\n",
      "Trainable params: 32,381\n",
      "Non-trainable params: 0\n",
      "_________________________________________________________________\n"
     ]
    }
   ],
   "source": [
    "model_shallow = MLP_shallow()\n",
    "\n",
    "# define optimizer\n",
    "sgd = SGD(learning_rate=0.001, momentum=0.7, nesterov=True\n",
    ")\n",
    "model_shallow.compile(optimizer=sgd, loss='binary_crossentropy', metrics=['accuracy'])\n",
    "# print model information\n",
    "model_shallow.summary()"
   ]
  },
  {
   "cell_type": "code",
   "execution_count": 813,
   "metadata": {},
   "outputs": [],
   "source": [
    "history_shallow = model_shallow.fit(X_train, y_train, epochs= 700, validation_split=0.3, batch_size=120, shuffle=True).history"
   ]
  },
  {
   "cell_type": "code",
   "execution_count": 709,
   "metadata": {},
   "outputs": [
    {
     "data": {
      "text/plain": [
       "<matplotlib.legend.Legend at 0x7fb242f5e390>"
      ]
     },
     "execution_count": 709,
     "metadata": {},
     "output_type": "execute_result"
    },
    {
     "data": {
      "image/png": "[encoded data removed]",
      "text/plain": [
       "<Figure size 432x288 with 1 Axes>"
      ]
     },
     "metadata": {
      "needs_background": "light"
     },
     "output_type": "display_data"
    }
   ],
   "source": [
    "# training-validation loss\n",
    "plt.plot(history_shallow['loss'], label='training')\n",
    "plt.plot(history_shallow['val_loss'], label='validation')\n",
    "plt.ylim(0,4)\n",
    "plt.xlabel('epochs')\n",
    "plt.ylabel('loss')\n",
    "plt.legend()"
   ]
  },
  {
   "cell_type": "markdown",
   "metadata": {},
   "source": [
    "The learning curves are stable and start to converge after 100 epochs. <br> There is a slight overfittin starting from epoch 600. However this seems to be the best model tested so far. "
   ]
  },
  {
   "cell_type": "code",
   "execution_count": 710,
   "metadata": {},
   "outputs": [
    {
     "data": {
      "text/plain": [
       "<matplotlib.legend.Legend at 0x7fb236825490>"
      ]
     },
     "execution_count": 710,
     "metadata": {},
     "output_type": "execute_result"
    },
    {
     "data": {
      "image/png": "[encoded data removed]",
      "text/plain": [
       "<Figure size 432x288 with 1 Axes>"
      ]
     },
     "metadata": {
      "needs_background": "light"
     },
     "output_type": "display_data"
    }
   ],
   "source": [
    "# training-validation accuracy\n",
    "plt.plot(history_shallow['accuracy'], label='training')\n",
    "plt.plot(history_shallow['val_accuracy'], label='validation')\n",
    "plt.xlabel('epochs')\n",
    "plt.ylabel('accuracy')\n",
    "plt.legend()"
   ]
  },
  {
   "cell_type": "markdown",
   "metadata": {},
   "source": [
    "After 300 epochs the accuracy on the validaiton set doesn't seem to improve, but it doesn't descrease either.<br>\n",
    "There are light obscillations but on avereage the accuracy stays stable on 75%.<br> \n",
    "The accuracy of the training set instead, continues to increase towards 100%, therefore increasing the number of epochs would cause our model to overfit the data."
   ]
  },
  {
   "cell_type": "code",
   "execution_count": 711,
   "metadata": {},
   "outputs": [
    {
     "name": "stdout",
     "output_type": "stream",
     "text": [
      "87/87 - 0s\n",
      "Accuracy 0.7577076532462822\n",
      "F1-score [0.69188192 0.80035864]\n",
      "              precision    recall  f1-score   support\n",
      "\n",
      "           0       0.72      0.66      0.69      1132\n",
      "           1       0.78      0.82      0.80      1625\n",
      "\n",
      "    accuracy                           0.76      2757\n",
      "   macro avg       0.75      0.74      0.75      2757\n",
      "weighted avg       0.76      0.76      0.76      2757\n",
      "\n"
     ]
    }
   ],
   "source": [
    "# internal test \n",
    "threshold = 0.50\n",
    "# convert prediciton to binary \n",
    "y_pred = model_shallow.predict(X_test_int, verbose=2)\n",
    "y_pred = y_pred > threshold\n",
    "\n",
    "print('Accuracy %s' % accuracy_score(y_test_int, y_pred))\n",
    "print('F1-score %s' % f1_score(y_test_int, y_pred, average=None))\n",
    "print(classification_report(y_test_int, y_pred))"
   ]
  },
  {
   "cell_type": "markdown",
   "metadata": {},
   "source": [
    "### SGD - Model less regularized: How does overfitting affects the performance of the model?"
   ]
  },
  {
   "cell_type": "code",
   "execution_count": 754,
   "metadata": {},
   "outputs": [],
   "source": [
    "def MLP_shallow_ng():\n",
    "    initializer = tf.keras.initializers.GlorotNormal()\n",
    "    input_dim = X_train.shape[1]\n",
    "    \n",
    "    model = Sequential()\n",
    "    model.add(Dense(60, activation='relu', input_dim=input_dim,kernel_initializer=initializer,kernel_regularizer=regularizers.l2(0.02) ))    \n",
    "    model.add(Dense(20, activation='relu', input_dim=input_dim,kernel_initializer=initializer, kernel_regularizer=regularizers.l2(0.02)))    \n",
    "\n",
    "    #output layer\n",
    "    model.add(Dense(1, activation='sigmoid',kernel_initializer=initializer))\n",
    "\n",
    "    return model"
   ]
  },
  {
   "cell_type": "code",
   "execution_count": 755,
   "metadata": {},
   "outputs": [
    {
     "name": "stdout",
     "output_type": "stream",
     "text": [
      "Model: \"sequential_128\"\n",
      "_________________________________________________________________\n",
      "Layer (type)                 Output Shape              Param #   \n",
      "=================================================================\n",
      "dense_384 (Dense)            (None, 60)                31140     \n",
      "_________________________________________________________________\n",
      "dense_385 (Dense)            (None, 20)                1220      \n",
      "_________________________________________________________________\n",
      "dense_386 (Dense)            (None, 1)                 21        \n",
      "=================================================================\n",
      "Total params: 32,381\n",
      "Trainable params: 32,381\n",
      "Non-trainable params: 0\n",
      "_________________________________________________________________\n"
     ]
    }
   ],
   "source": [
    "model_shallow_ng = MLP_shallow_ng()\n",
    "\n",
    "# define optimizer\n",
    "sgd = SGD(learning_rate=0.001, momentum=0.7, nesterov=True\n",
    ")\n",
    "model_shallow_ng.compile(optimizer=sgd, loss='binary_crossentropy', metrics=['accuracy'])\n",
    "# print model information\n",
    "model_shallow_ng.summary()"
   ]
  },
  {
   "cell_type": "code",
   "execution_count": 756,
   "metadata": {},
   "outputs": [],
   "source": [
    "history_shallow_ng =model_shallow_ng.fit(X_train, y_train, epochs= 700, validation_split=0.3, batch_size=120, shuffle=True, verbose=False).history"
   ]
  },
  {
   "cell_type": "code",
   "execution_count": 757,
   "metadata": {},
   "outputs": [
    {
     "data": {
      "text/plain": [
       "<matplotlib.legend.Legend at 0x7fb255d8e290>"
      ]
     },
     "execution_count": 757,
     "metadata": {},
     "output_type": "execute_result"
    },
    {
     "data": {
      "image/png": "[encoded data removed]",
      "text/plain": [
       "<Figure size 432x288 with 1 Axes>"
      ]
     },
     "metadata": {
      "needs_background": "light"
     },
     "output_type": "display_data"
    }
   ],
   "source": [
    "# training-validation loss\n",
    "plt.plot(history_shallow_ng['loss'], label='training')\n",
    "plt.plot(history_shallow_ng['val_loss'], label='validation')\n",
    "plt.ylim(0,4)\n",
    "plt.xlabel('epochs')\n",
    "plt.ylabel('loss')\n",
    "plt.legend()"
   ]
  },
  {
   "cell_type": "markdown",
   "metadata": {},
   "source": [
    "With less regularization we can clearly observe the effects of overfitting. The curves start to diverge significantly after 200 epochs."
   ]
  },
  {
   "cell_type": "code",
   "execution_count": 758,
   "metadata": {},
   "outputs": [
    {
     "data": {
      "text/plain": [
       "<matplotlib.legend.Legend at 0x7fb256bca190>"
      ]
     },
     "execution_count": 758,
     "metadata": {},
     "output_type": "execute_result"
    },
    {
     "data": {
      "image/png": "[encoded data removed]",
      "text/plain": [
       "<Figure size 432x288 with 1 Axes>"
      ]
     },
     "metadata": {
      "needs_background": "light"
     },
     "output_type": "display_data"
    }
   ],
   "source": [
    "# training-validation accuracy\n",
    "plt.plot(history_shallow_ng['accuracy'], label='training')\n",
    "plt.plot(history_shallow_ng['val_accuracy'], label='validation')\n",
    "plt.xlabel('epochs')\n",
    "plt.ylabel('accuracy')\n",
    "plt.legend()"
   ]
  },
  {
   "cell_type": "code",
   "execution_count": 761,
   "metadata": {},
   "outputs": [
    {
     "name": "stdout",
     "output_type": "stream",
     "text": [
      "87/87 - 0s\n",
      "Accuracy 0.750816104461371\n",
      "F1-score [0.69206634 0.79074018]\n",
      "              precision    recall  f1-score   support\n",
      "\n",
      "           0       0.70      0.68      0.69      1132\n",
      "           1       0.78      0.80      0.79      1625\n",
      "\n",
      "    accuracy                           0.75      2757\n",
      "   macro avg       0.74      0.74      0.74      2757\n",
      "weighted avg       0.75      0.75      0.75      2757\n",
      "\n"
     ]
    }
   ],
   "source": [
    "# internal test \n",
    "threshold = 0.50\n",
    "# convert prediciton to binary \n",
    "y_pred = model_shallow_ng.predict(X_test_int, verbose=2)\n",
    "y_pred = y_pred > threshold\n",
    "\n",
    "print('Accuracy %s' % accuracy_score(y_test_int, y_pred))\n",
    "print('F1-score %s' % f1_score(y_test_int, y_pred, average=None))\n",
    "print(classification_report(y_test_int, y_pred))"
   ]
  },
  {
   "cell_type": "markdown",
   "metadata": {},
   "source": [
    "# Random Search - Hyperparameter tuning\n",
    "\n",
    "It will be performed first a coarse random search in order to restric the search space. The best model will be then fed to a fine random search which will fine tune the hyperparameters found by the coarse search."
   ]
  },
  {
   "cell_type": "code",
   "execution_count": 101,
   "metadata": {},
   "outputs": [],
   "source": [
    "from sklearn.model_selection import RandomizedSearchCV"
   ]
  },
  {
   "cell_type": "code",
   "execution_count": 762,
   "metadata": {},
   "outputs": [],
   "source": [
    "def ANN(n_layers=2, h_dim=64, activation='relu',learning_rate=0.01,\n",
    "                momentum=0.0,nesterov=True, optimizer='sgd', lambd=0,  **kwargs):\n",
    "    # define the model\n",
    "    model = Sequential()\n",
    "\n",
    "    n_feature = X_train.shape[1]\n",
    "    \n",
    "    model.add(Dense(60, activation=activation, input_shape=(n_feature,),kernel_regularizer=regularizers.l2(lambd)))\n",
    "    for i in range(n_layers-1):\n",
    "        model.add(Dense(h_dim, activation=activation,kernel_regularizer=regularizers.l2(lambd)))\n",
    "        \n",
    "    #linear activation\n",
    "    model.add(Dense(1, activation='sigmoid'))\n",
    "\n",
    "    #compile the model\n",
    "    if optimizer == 'sgd':\n",
    "        optimizer = SGD(learning_rate=learning_rate, momentum=momentum, nesterov=nesterov)\n",
    "    else:\n",
    "        raise ValueError('accepted optimizers are Adam and SGD')\n",
    "        \n",
    "    model.compile(loss='binary_crossentropy', optimizer=optimizer, metrics=['accuracy'])\n",
    "    \n",
    "    return model"
   ]
  },
  {
   "cell_type": "code",
   "execution_count": 763,
   "metadata": {},
   "outputs": [],
   "source": [
    "# parameters' grid\n",
    "n_layers = [1, 2]\n",
    "h_dim = [20, 50]\n",
    "activation = ['relu']\n",
    "optimizer = [ 'sgd']\n",
    "momentum = [random.uniform(0.65,0.8)]\n",
    "learning_rate=[random.uniform(0.001,0.0017)]\n",
    "lambd = [random.uniform(0.10, 0.13)]\n",
    "\n",
    "params = dict(optimizer=optimizer, n_layers=n_layers, h_dim=h_dim, activation=activation, momentum=momentum,\n",
    "             learning_rate=learning_rate, lambd=lambd)"
   ]
  },
  {
   "cell_type": "code",
   "execution_count": 766,
   "metadata": {},
   "outputs": [],
   "source": [
    "# coarse grid search\n",
    "model = KerasClassifier(build_fn=ANN)\n",
    "\n",
    "rnd = RandomizedSearchCV(estimator=model, param_distributions=params, n_iter=10, cv=5)\n",
    "rnd_result = rnd.fit(X_train, y_train, epochs=700, batch_size=120,shuffle=True, verbose=1)"
   ]
  },
  {
   "cell_type": "code",
   "execution_count": 765,
   "metadata": {},
   "outputs": [
    {
     "name": "stdout",
     "output_type": "stream",
     "text": [
      "Best: 0.752219 using {'optimizer': 'sgd', 'n_layers': 1, 'momentum': 0.7934243001699697, 'learning_rate': 0.0011222982488957825, 'lambd': 0.11744317773833411, 'h_dim': 20, 'activation': 'relu'}\n",
      "0.752219 (0.013788) with: {'optimizer': 'sgd', 'n_layers': 1, 'momentum': 0.7934243001699697, 'learning_rate': 0.0011222982488957825, 'lambd': 0.11744317773833411, 'h_dim': 20, 'activation': 'relu'}\n",
      "0.746313 (0.016053) with: {'optimizer': 'sgd', 'n_layers': 2, 'momentum': 0.7934243001699697, 'learning_rate': 0.0011222982488957825, 'lambd': 0.11744317773833411, 'h_dim': 20, 'activation': 'relu'}\n",
      "0.748801 (0.016338) with: {'optimizer': 'sgd', 'n_layers': 1, 'momentum': 0.7934243001699697, 'learning_rate': 0.0011222982488957825, 'lambd': 0.11744317773833411, 'h_dim': 50, 'activation': 'relu'}\n",
      "0.747090 (0.014120) with: {'optimizer': 'sgd', 'n_layers': 2, 'momentum': 0.7934243001699697, 'learning_rate': 0.0011222982488957825, 'lambd': 0.11744317773833411, 'h_dim': 50, 'activation': 'relu'}\n"
     ]
    }
   ],
   "source": [
    "# results random search - avg 5 fold cv\n",
    "print(\"Best: %f using %s\" % (rnd_result.best_score_, rnd_result.best_params_))\n",
    "means = rnd_result.cv_results_['mean_test_score']\n",
    "stds = rnd_result.cv_results_['std_test_score']\n",
    "params = rnd_result.cv_results_['params']\n",
    "\n",
    "for mean, stdev, param in zip(means, stds, params):\n",
    "    print(\"%f (%f) with: %r\" % (mean, stdev, param))"
   ]
  },
  {
   "cell_type": "markdown",
   "metadata": {},
   "source": [
    "The best model tested so far has the following architecture: (518, 60, 20).<br>\n",
    "In the first screening several combination of hyperparameters were tested on the validation set. <br>\n",
    "The results obtained were satisfactory compared to other architectures, therefore we started a random search starting from that model. The goal was to improve the performance of the model by fine tuning its hyperparameter."
   ]
  },
  {
   "cell_type": "markdown",
   "metadata": {},
   "source": [
    "## Check how the best model behaves"
   ]
  },
  {
   "cell_type": "code",
   "execution_count": 779,
   "metadata": {},
   "outputs": [],
   "source": [
    "def MLP_best():\n",
    "    initializer = tf.keras.initializers.GlorotNormal()\n",
    "    input_dim = X_train.shape[1]\n",
    "    \n",
    "    model = Sequential()\n",
    "    model.add(Dense(60, activation='relu', input_dim=input_dim,kernel_initializer=initializer, kernel_regularizer=regularizers.l2(0.12)))    \n",
    "    model.add(Dense(20, activation='relu', input_dim=input_dim,kernel_initializer=initializer, kernel_regularizer=regularizers.l2(0.11744317773833411)))    \n",
    "\n",
    "    #output layer\n",
    "    model.add(Dense(1, activation='sigmoid',kernel_initializer=initializer))\n",
    "\n",
    "    return model"
   ]
  },
  {
   "cell_type": "code",
   "execution_count": 768,
   "metadata": {},
   "outputs": [
    {
     "name": "stdout",
     "output_type": "stream",
     "text": [
      "Model: \"sequential_150\"\n",
      "_________________________________________________________________\n",
      "Layer (type)                 Output Shape              Param #   \n",
      "=================================================================\n",
      "dense_439 (Dense)            (None, 60)                31140     \n",
      "_________________________________________________________________\n",
      "dense_440 (Dense)            (None, 20)                1220      \n",
      "_________________________________________________________________\n",
      "dense_441 (Dense)            (None, 1)                 21        \n",
      "=================================================================\n",
      "Total params: 32,381\n",
      "Trainable params: 32,381\n",
      "Non-trainable params: 0\n",
      "_________________________________________________________________\n"
     ]
    }
   ],
   "source": [
    "model_best = MLP_best()\n",
    "\n",
    "# define optimizer\n",
    "sgd = SGD(learning_rate=0.0011222982488957825, momentum=0.7934243001699697, nesterov=True\n",
    ")\n",
    "model_best.compile(optimizer=sgd, loss='binary_crossentropy', metrics=['accuracy'])\n",
    "# print model information\n",
    "model_best.summary()"
   ]
  },
  {
   "cell_type": "code",
   "execution_count": 812,
   "metadata": {},
   "outputs": [],
   "source": [
    "history_best =model_best.fit(X_train, y_train, epochs= 700, validation_split=0.3, batch_size=120, shuffle=True, verbose=True).history"
   ]
  },
  {
   "cell_type": "code",
   "execution_count": 770,
   "metadata": {},
   "outputs": [
    {
     "data": {
      "text/plain": [
       "<matplotlib.legend.Legend at 0x7fb23d080650>"
      ]
     },
     "execution_count": 770,
     "metadata": {},
     "output_type": "execute_result"
    },
    {
     "data": {
      "image/png": "[encoded data removed]",
      "text/plain": [
       "<Figure size 432x288 with 1 Axes>"
      ]
     },
     "metadata": {
      "needs_background": "light"
     },
     "output_type": "display_data"
    }
   ],
   "source": [
    "# training-validation loss\n",
    "plt.plot(history_best['loss'], label='training')\n",
    "plt.plot(history_best['val_loss'], label='validation')\n",
    "plt.ylim(0,4)\n",
    "plt.xlabel('epochs')\n",
    "plt.ylabel('loss')\n",
    "plt.legend()"
   ]
  },
  {
   "cell_type": "markdown",
   "metadata": {},
   "source": [
    "The random search improved the learning curves of our Model, even though a very small overfitting occurs after epoch 650."
   ]
  },
  {
   "cell_type": "code",
   "execution_count": 771,
   "metadata": {},
   "outputs": [
    {
     "data": {
      "text/plain": [
       "<matplotlib.legend.Legend at 0x7fb2268c1390>"
      ]
     },
     "execution_count": 771,
     "metadata": {},
     "output_type": "execute_result"
    },
    {
     "data": {
      "image/png": "[encoded data removed]",
      "text/plain": [
       "<Figure size 432x288 with 1 Axes>"
      ]
     },
     "metadata": {
      "needs_background": "light"
     },
     "output_type": "display_data"
    }
   ],
   "source": [
    "# training-validation accuracy\n",
    "plt.plot(history_best['accuracy'], label='training')\n",
    "plt.plot(history_best['val_accuracy'], label='validation')\n",
    "plt.xlabel('epochs')\n",
    "plt.ylabel('accuracy')\n",
    "plt.legend()"
   ]
  },
  {
   "cell_type": "code",
   "execution_count": 772,
   "metadata": {},
   "outputs": [
    {
     "name": "stdout",
     "output_type": "stream",
     "text": [
      "87/87 - 0s\n",
      "Accuracy 0.7598839318099383\n",
      "F1-score [0.69549218 0.80179641]\n",
      "              precision    recall  f1-score   support\n",
      "\n",
      "           0       0.73      0.67      0.70      1132\n",
      "           1       0.78      0.82      0.80      1625\n",
      "\n",
      "    accuracy                           0.76      2757\n",
      "   macro avg       0.75      0.75      0.75      2757\n",
      "weighted avg       0.76      0.76      0.76      2757\n",
      "\n"
     ]
    }
   ],
   "source": [
    "# internal test \n",
    "threshold = 0.50\n",
    "# convert prediciton to binary \n",
    "y_pred = model_best.predict(X_test_int, verbose=2)\n",
    "y_pred = y_pred > threshold\n",
    "\n",
    "print('Accuracy %s' % accuracy_score(y_test_int, y_pred))\n",
    "print('F1-score %s' % f1_score(y_test_int, y_pred, average=None))\n",
    "print(classification_report(y_test_int, y_pred))"
   ]
  },
  {
   "cell_type": "markdown",
   "metadata": {},
   "source": [
    "## If we use Adam instead of SGD will the performance improve?"
   ]
  },
  {
   "cell_type": "code",
   "execution_count": 773,
   "metadata": {},
   "outputs": [
    {
     "name": "stdout",
     "output_type": "stream",
     "text": [
      "Model: \"sequential_151\"\n",
      "_________________________________________________________________\n",
      "Layer (type)                 Output Shape              Param #   \n",
      "=================================================================\n",
      "dense_442 (Dense)            (None, 60)                31140     \n",
      "_________________________________________________________________\n",
      "dense_443 (Dense)            (None, 20)                1220      \n",
      "_________________________________________________________________\n",
      "dense_444 (Dense)            (None, 1)                 21        \n",
      "=================================================================\n",
      "Total params: 32,381\n",
      "Trainable params: 32,381\n",
      "Non-trainable params: 0\n",
      "_________________________________________________________________\n"
     ]
    }
   ],
   "source": [
    "model_best_adam = MLP_best()\n",
    "\n",
    "# define optimizer\n",
    "adam = Adam(learning_rate=0.0011222982488957825)\n",
    "model_best_adam.compile(optimizer=adam, loss='binary_crossentropy', metrics=['accuracy'])\n",
    "# print model information\n",
    "model_best_adam.summary()"
   ]
  },
  {
   "cell_type": "code",
   "execution_count": 811,
   "metadata": {},
   "outputs": [],
   "source": [
    "history_best_adam =model_best_adam.fit(X_train, y_train, epochs= 700, validation_split=0.3, batch_size=120, shuffle=True, verbose=True).history"
   ]
  },
  {
   "cell_type": "code",
   "execution_count": 775,
   "metadata": {},
   "outputs": [
    {
     "data": {
      "text/plain": [
       "<matplotlib.legend.Legend at 0x7fb24b428090>"
      ]
     },
     "execution_count": 775,
     "metadata": {},
     "output_type": "execute_result"
    },
    {
     "data": {
      "image/png": "[encoded data removed]",
      "text/plain": [
       "<Figure size 432x288 with 1 Axes>"
      ]
     },
     "metadata": {
      "needs_background": "light"
     },
     "output_type": "display_data"
    }
   ],
   "source": [
    "# training-validation loss\n",
    "plt.plot(history_best_adam['loss'], label='training')\n",
    "plt.plot(history_best_adam['val_loss'], label='validation')\n",
    "plt.ylim(0,4)\n",
    "plt.xlabel('epochs')\n",
    "plt.ylabel('loss')\n",
    "plt.legend()"
   ]
  },
  {
   "cell_type": "markdown",
   "metadata": {},
   "source": [
    "Maintaining the same configuration and changing the optimizer, we notice that with Adam optimizer the overfitting increases."
   ]
  },
  {
   "cell_type": "code",
   "execution_count": 776,
   "metadata": {},
   "outputs": [
    {
     "data": {
      "text/plain": [
       "<matplotlib.legend.Legend at 0x7fb24879e310>"
      ]
     },
     "execution_count": 776,
     "metadata": {},
     "output_type": "execute_result"
    },
    {
     "data": {
      "image/png": "[encoded data removed]",
      "text/plain": [
       "<Figure size 432x288 with 1 Axes>"
      ]
     },
     "metadata": {
      "needs_background": "light"
     },
     "output_type": "display_data"
    }
   ],
   "source": [
    "# training-validation accuracy\n",
    "plt.plot(history_best_adam['accuracy'], label='training')\n",
    "plt.plot(history_best_adam['val_accuracy'], label='validation')\n",
    "plt.xlabel('epochs')\n",
    "plt.ylabel('accuracy')\n",
    "plt.legend()"
   ]
  },
  {
   "cell_type": "markdown",
   "metadata": {},
   "source": [
    "## Let's do another Random Search testing other architectures"
   ]
  },
  {
   "cell_type": "code",
   "execution_count": 103,
   "metadata": {},
   "outputs": [],
   "source": [
    "def build_model(n_layers=2, h_dim=64, activation='relu',learning_rate=0.01,\n",
    "                momentum=0.0,nesterov=True, optimizer='adam', lambd=0, dropout_rate=0, **kwargs):\n",
    "    # define the model\n",
    "    model = Sequential()\n",
    "\n",
    "    n_feature = X_train.shape[1]\n",
    "    \n",
    "    model.add(Dense(h_dim, activation=activation, input_shape=(n_feature,),kernel_regularizer=regularizers.l2(lambd)))\n",
    "    model.add(Dropout(dropout_rate))\n",
    "    for i in range(n_layers-1):\n",
    "        model.add(Dense(h_dim, activation=activation,kernel_regularizer=regularizers.l2(lambd)))\n",
    "        model.add(Dropout(dropout_rate))\n",
    "\n",
    "    #linear activation\n",
    "    model.add(Dense(1, activation='sigmoid', kernel_regularizer=regularizers.l2(lambd)))\n",
    "\n",
    "    #compile the model\n",
    "    if optimizer == 'adam':\n",
    "        optimizer = Adam(lr=learning_rate)\n",
    "    elif optimizer == 'sgd':\n",
    "        optimizer = SGD(learning_rate=learning_rate, momentum=momentum, nesterov=nesterov)\n",
    "    else:\n",
    "        raise ValueError('accepted optimizers are Adam and SGD')\n",
    "        \n",
    "    model.compile(loss='binary_crossentropy', optimizer=optimizer, metrics=['accuracy'])\n",
    "    \n",
    "    return model"
   ]
  },
  {
   "cell_type": "markdown",
   "metadata": {},
   "source": [
    "#### Coarse Random-Search "
   ]
  },
  {
   "cell_type": "code",
   "execution_count": 1135,
   "metadata": {},
   "outputs": [],
   "source": [
    "# parameters' grid\n",
    "n_layers = [1, 2, 3]\n",
    "h_dim = [30, 50, 128]\n",
    "activation = ['relu']\n",
    "optimizer = ['adam', 'sgd']\n",
    "momentum = [0.5, 0.8]\n",
    "learning_rate=[0.1, 0.01, 0.001, 0.0001]\n",
    "lambd = [0, 1e-1, 1e-2, 1e-3]\n",
    "\n",
    "params = dict(optimizer=optimizer, n_layers=n_layers, h_dim=h_dim, activation=activation, momentum=momentum,\n",
    "             learning_rate=learning_rate, lambd=lambd)"
   ]
  },
  {
   "cell_type": "code",
   "execution_count": 810,
   "metadata": {
    "scrolled": true
   },
   "outputs": [],
   "source": [
    "# coarse grid search\n",
    "model = KerasClassifier(build_fn=build_model)\n",
    "\n",
    "rnd = RandomizedSearchCV(estimator=model, param_distributions=params, n_iter=100, cv=5)\n",
    "rnd_result = rnd.fit(X_train, y_train, epochs=500, batch_size=20,shuffle=True, verbose=1)"
   ]
  },
  {
   "cell_type": "code",
   "execution_count": 1137,
   "metadata": {},
   "outputs": [
    {
     "name": "stdout",
     "output_type": "stream",
     "text": [
      "Best: 0.753306 using {'optimizer': 'adam', 'n_layers': 1, 'momentum': 0.5, 'learning_rate': 0.0001, 'lambd': 0.01, 'h_dim': 128, 'activation': 'relu'}\n",
      "0.739161 (0.011426) with: {'optimizer': 'adam', 'n_layers': 2, 'momentum': 0.5, 'learning_rate': 0.0001, 'lambd': 0.01, 'h_dim': 30, 'activation': 'relu'}\n",
      "0.732633 (0.013616) with: {'optimizer': 'adam', 'n_layers': 1, 'momentum': 0.8, 'learning_rate': 0.001, 'lambd': 0.001, 'h_dim': 128, 'activation': 'relu'}\n",
      "0.740250 (0.014995) with: {'optimizer': 'sgd', 'n_layers': 2, 'momentum': 0.8, 'learning_rate': 0.01, 'lambd': 0.01, 'h_dim': 50, 'activation': 'relu'}\n",
      "0.743978 (0.009656) with: {'optimizer': 'adam', 'n_layers': 3, 'momentum': 0.8, 'learning_rate': 0.0001, 'lambd': 0, 'h_dim': 128, 'activation': 'relu'}\n",
      "0.723150 (0.012094) with: {'optimizer': 'adam', 'n_layers': 2, 'momentum': 0.8, 'learning_rate': 0.01, 'lambd': 0, 'h_dim': 50, 'activation': 'relu'}\n",
      "0.729988 (0.007538) with: {'optimizer': 'adam', 'n_layers': 1, 'momentum': 0.8, 'learning_rate': 0.001, 'lambd': 0, 'h_dim': 128, 'activation': 'relu'}\n",
      "0.587909 (0.009200) with: {'optimizer': 'adam', 'n_layers': 3, 'momentum': 0.8, 'learning_rate': 0.1, 'lambd': 0.1, 'h_dim': 128, 'activation': 'relu'}\n",
      "0.587909 (0.009200) with: {'optimizer': 'adam', 'n_layers': 2, 'momentum': 0.8, 'learning_rate': 0.1, 'lambd': 0.1, 'h_dim': 50, 'activation': 'relu'}\n",
      "0.587909 (0.009200) with: {'optimizer': 'adam', 'n_layers': 1, 'momentum': 0.8, 'learning_rate': 0.1, 'lambd': 0.001, 'h_dim': 50, 'activation': 'relu'}\n",
      "0.731234 (0.012891) with: {'optimizer': 'adam', 'n_layers': 3, 'momentum': 0.8, 'learning_rate': 0.001, 'lambd': 0, 'h_dim': 30, 'activation': 'relu'}\n",
      "0.587909 (0.009200) with: {'optimizer': 'adam', 'n_layers': 2, 'momentum': 0.5, 'learning_rate': 0.1, 'lambd': 0.1, 'h_dim': 30, 'activation': 'relu'}\n",
      "0.739164 (0.018868) with: {'optimizer': 'sgd', 'n_layers': 3, 'momentum': 0.8, 'learning_rate': 0.001, 'lambd': 0, 'h_dim': 50, 'activation': 'relu'}\n",
      "0.737298 (0.014879) with: {'optimizer': 'sgd', 'n_layers': 3, 'momentum': 0.8, 'learning_rate': 0.001, 'lambd': 0.01, 'h_dim': 50, 'activation': 'relu'}\n",
      "0.741494 (0.016501) with: {'optimizer': 'sgd', 'n_layers': 1, 'momentum': 0.8, 'learning_rate': 0.01, 'lambd': 0.01, 'h_dim': 50, 'activation': 'relu'}\n",
      "0.587909 (0.009200) with: {'optimizer': 'sgd', 'n_layers': 3, 'momentum': 0.5, 'learning_rate': 0.01, 'lambd': 0.1, 'h_dim': 30, 'activation': 'relu'}\n",
      "0.742117 (0.018451) with: {'optimizer': 'sgd', 'n_layers': 1, 'momentum': 0.5, 'learning_rate': 0.001, 'lambd': 0.001, 'h_dim': 30, 'activation': 'relu'}\n",
      "0.587909 (0.009200) with: {'optimizer': 'sgd', 'n_layers': 3, 'momentum': 0.5, 'learning_rate': 0.0001, 'lambd': 0.1, 'h_dim': 30, 'activation': 'relu'}\n",
      "0.689885 (0.017337) with: {'optimizer': 'adam', 'n_layers': 1, 'momentum': 0.8, 'learning_rate': 0.001, 'lambd': 0.1, 'h_dim': 50, 'activation': 'relu'}\n",
      "0.725482 (0.011414) with: {'optimizer': 'adam', 'n_layers': 3, 'momentum': 0.5, 'learning_rate': 0.0001, 'lambd': 0, 'h_dim': 30, 'activation': 'relu'}\n",
      "0.736985 (0.012407) with: {'optimizer': 'adam', 'n_layers': 2, 'momentum': 0.8, 'learning_rate': 0.0001, 'lambd': 0, 'h_dim': 30, 'activation': 'relu'}\n",
      "0.721906 (0.011769) with: {'optimizer': 'sgd', 'n_layers': 3, 'momentum': 0.5, 'learning_rate': 0.1, 'lambd': 0.001, 'h_dim': 50, 'activation': 'relu'}\n",
      "0.587909 (0.009200) with: {'optimizer': 'adam', 'n_layers': 2, 'momentum': 0.8, 'learning_rate': 0.001, 'lambd': 0.1, 'h_dim': 30, 'activation': 'relu'}\n",
      "0.727968 (0.013065) with: {'optimizer': 'sgd', 'n_layers': 2, 'momentum': 0.5, 'learning_rate': 0.0001, 'lambd': 0.001, 'h_dim': 128, 'activation': 'relu'}\n",
      "0.587909 (0.009200) with: {'optimizer': 'sgd', 'n_layers': 3, 'momentum': 0.8, 'learning_rate': 0.1, 'lambd': 0.1, 'h_dim': 30, 'activation': 'relu'}\n",
      "0.703098 (0.018011) with: {'optimizer': 'sgd', 'n_layers': 1, 'momentum': 0.5, 'learning_rate': 0.1, 'lambd': 0.01, 'h_dim': 30, 'activation': 'relu'}\n",
      "0.723462 (0.014816) with: {'optimizer': 'adam', 'n_layers': 2, 'momentum': 0.5, 'learning_rate': 0.01, 'lambd': 0, 'h_dim': 50, 'activation': 'relu'}\n",
      "0.732012 (0.014862) with: {'optimizer': 'adam', 'n_layers': 2, 'momentum': 0.5, 'learning_rate': 0.0001, 'lambd': 0.001, 'h_dim': 50, 'activation': 'relu'}\n",
      "0.726881 (0.012949) with: {'optimizer': 'sgd', 'n_layers': 1, 'momentum': 0.5, 'learning_rate': 0.1, 'lambd': 0, 'h_dim': 30, 'activation': 'relu'}\n",
      "0.750353 (0.010704) with: {'optimizer': 'adam', 'n_layers': 1, 'momentum': 0.8, 'learning_rate': 0.0001, 'lambd': 0.01, 'h_dim': 30, 'activation': 'relu'}\n",
      "0.587909 (0.009200) with: {'optimizer': 'adam', 'n_layers': 3, 'momentum': 0.5, 'learning_rate': 0.001, 'lambd': 0.1, 'h_dim': 128, 'activation': 'relu'}\n",
      "0.698898 (0.025777) with: {'optimizer': 'adam', 'n_layers': 3, 'momentum': 0.8, 'learning_rate': 0.01, 'lambd': 0, 'h_dim': 128, 'activation': 'relu'}\n",
      "0.735898 (0.015564) with: {'optimizer': 'sgd', 'n_layers': 1, 'momentum': 0.8, 'learning_rate': 0.01, 'lambd': 0.001, 'h_dim': 128, 'activation': 'relu'}\n",
      "0.705738 (0.011765) with: {'optimizer': 'sgd', 'n_layers': 1, 'momentum': 0.5, 'learning_rate': 0.01, 'lambd': 0.1, 'h_dim': 128, 'activation': 'relu'}\n",
      "0.741960 (0.012187) with: {'optimizer': 'adam', 'n_layers': 1, 'momentum': 0.8, 'learning_rate': 0.001, 'lambd': 0, 'h_dim': 50, 'activation': 'relu'}\n",
      "0.587909 (0.009200) with: {'optimizer': 'sgd', 'n_layers': 2, 'momentum': 0.5, 'learning_rate': 0.0001, 'lambd': 0.1, 'h_dim': 30, 'activation': 'relu'}\n",
      "0.587909 (0.009200) with: {'optimizer': 'adam', 'n_layers': 1, 'momentum': 0.5, 'learning_rate': 0.1, 'lambd': 0.01, 'h_dim': 128, 'activation': 'relu'}\n",
      "0.588220 (0.008802) with: {'optimizer': 'sgd', 'n_layers': 2, 'momentum': 0.8, 'learning_rate': 0.1, 'lambd': 0, 'h_dim': 50, 'activation': 'relu'}\n",
      "0.728435 (0.018084) with: {'optimizer': 'sgd', 'n_layers': 1, 'momentum': 0.5, 'learning_rate': 0.0001, 'lambd': 0.01, 'h_dim': 50, 'activation': 'relu'}\n",
      "0.719731 (0.012585) with: {'optimizer': 'adam', 'n_layers': 3, 'momentum': 0.8, 'learning_rate': 0.001, 'lambd': 0.001, 'h_dim': 50, 'activation': 'relu'}\n",
      "0.710713 (0.010051) with: {'optimizer': 'adam', 'n_layers': 3, 'momentum': 0.8, 'learning_rate': 0.01, 'lambd': 0.001, 'h_dim': 30, 'activation': 'relu'}\n",
      "0.587909 (0.009200) with: {'optimizer': 'adam', 'n_layers': 3, 'momentum': 0.8, 'learning_rate': 0.01, 'lambd': 0.1, 'h_dim': 50, 'activation': 'relu'}\n",
      "0.741960 (0.016479) with: {'optimizer': 'adam', 'n_layers': 1, 'momentum': 0.8, 'learning_rate': 0.001, 'lambd': 0.01, 'h_dim': 128, 'activation': 'relu'}\n",
      "0.706671 (0.015971) with: {'optimizer': 'sgd', 'n_layers': 2, 'momentum': 0.5, 'learning_rate': 0.0001, 'lambd': 0.001, 'h_dim': 50, 'activation': 'relu'}\n",
      "0.587909 (0.009200) with: {'optimizer': 'adam', 'n_layers': 2, 'momentum': 0.5, 'learning_rate': 0.001, 'lambd': 0.1, 'h_dim': 30, 'activation': 'relu'}\n",
      "0.587909 (0.009200) with: {'optimizer': 'adam', 'n_layers': 3, 'momentum': 0.5, 'learning_rate': 0.1, 'lambd': 0.01, 'h_dim': 50, 'activation': 'relu'}\n",
      "0.687087 (0.018260) with: {'optimizer': 'adam', 'n_layers': 1, 'momentum': 0.5, 'learning_rate': 0.001, 'lambd': 0.1, 'h_dim': 50, 'activation': 'relu'}\n",
      "0.712112 (0.011638) with: {'optimizer': 'sgd', 'n_layers': 1, 'momentum': 0.5, 'learning_rate': 0.001, 'lambd': 0.1, 'h_dim': 30, 'activation': 'relu'}\n",
      "0.587909 (0.009200) with: {'optimizer': 'adam', 'n_layers': 2, 'momentum': 0.5, 'learning_rate': 0.0001, 'lambd': 0.1, 'h_dim': 50, 'activation': 'relu'}\n",
      "0.666417 (0.027836) with: {'optimizer': 'sgd', 'n_layers': 1, 'momentum': 0.8, 'learning_rate': 0.1, 'lambd': 0.01, 'h_dim': 30, 'activation': 'relu'}\n",
      "0.728589 (0.013116) with: {'optimizer': 'sgd', 'n_layers': 1, 'momentum': 0.5, 'learning_rate': 0.0001, 'lambd': 0.01, 'h_dim': 30, 'activation': 'relu'}\n",
      "0.742269 (0.010504) with: {'optimizer': 'sgd', 'n_layers': 2, 'momentum': 0.8, 'learning_rate': 0.0001, 'lambd': 0.001, 'h_dim': 128, 'activation': 'relu'}\n",
      "0.734654 (0.015640) with: {'optimizer': 'sgd', 'n_layers': 2, 'momentum': 0.8, 'learning_rate': 0.001, 'lambd': 0, 'h_dim': 128, 'activation': 'relu'}\n",
      "0.587909 (0.009200) with: {'optimizer': 'sgd', 'n_layers': 2, 'momentum': 0.8, 'learning_rate': 0.1, 'lambd': 0.1, 'h_dim': 30, 'activation': 'relu'}\n",
      "0.736988 (0.021324) with: {'optimizer': 'sgd', 'n_layers': 2, 'momentum': 0.5, 'learning_rate': 0.01, 'lambd': 0.01, 'h_dim': 50, 'activation': 'relu'}\n",
      "0.705432 (0.021900) with: {'optimizer': 'adam', 'n_layers': 2, 'momentum': 0.5, 'learning_rate': 0.01, 'lambd': 0.001, 'h_dim': 50, 'activation': 'relu'}\n",
      "0.587909 (0.009200) with: {'optimizer': 'sgd', 'n_layers': 3, 'momentum': 0.5, 'learning_rate': 0.001, 'lambd': 0.1, 'h_dim': 30, 'activation': 'relu'}\n",
      "0.733724 (0.019173) with: {'optimizer': 'adam', 'n_layers': 3, 'momentum': 0.8, 'learning_rate': 0.0001, 'lambd': 0.001, 'h_dim': 50, 'activation': 'relu'}\n",
      "0.732168 (0.016019) with: {'optimizer': 'adam', 'n_layers': 3, 'momentum': 0.8, 'learning_rate': 0.001, 'lambd': 0.001, 'h_dim': 128, 'activation': 'relu'}\n",
      "0.739784 (0.013289) with: {'optimizer': 'adam', 'n_layers': 3, 'momentum': 0.5, 'learning_rate': 0.0001, 'lambd': 0.01, 'h_dim': 50, 'activation': 'relu'}\n",
      "0.721129 (0.017376) with: {'optimizer': 'sgd', 'n_layers': 2, 'momentum': 0.5, 'learning_rate': 0.0001, 'lambd': 0, 'h_dim': 128, 'activation': 'relu'}\n",
      "0.587909 (0.009200) with: {'optimizer': 'adam', 'n_layers': 3, 'momentum': 0.5, 'learning_rate': 0.1, 'lambd': 0.01, 'h_dim': 128, 'activation': 'relu'}\n",
      "0.739165 (0.020591) with: {'optimizer': 'adam', 'n_layers': 2, 'momentum': 0.5, 'learning_rate': 0.0001, 'lambd': 0, 'h_dim': 128, 'activation': 'relu'}\n",
      "0.727968 (0.014803) with: {'optimizer': 'adam', 'n_layers': 2, 'momentum': 0.5, 'learning_rate': 0.001, 'lambd': 0, 'h_dim': 50, 'activation': 'relu'}\n",
      "0.706829 (0.022509) with: {'optimizer': 'sgd', 'n_layers': 3, 'momentum': 0.5, 'learning_rate': 0.0001, 'lambd': 0.001, 'h_dim': 128, 'activation': 'relu'}\n",
      "0.720818 (0.012339) with: {'optimizer': 'sgd', 'n_layers': 2, 'momentum': 0.8, 'learning_rate': 0.01, 'lambd': 0, 'h_dim': 30, 'activation': 'relu'}\n",
      "0.721595 (0.010735) with: {'optimizer': 'adam', 'n_layers': 1, 'momentum': 0.8, 'learning_rate': 0.01, 'lambd': 0, 'h_dim': 30, 'activation': 'relu'}\n",
      "0.746624 (0.015167) with: {'optimizer': 'sgd', 'n_layers': 2, 'momentum': 0.8, 'learning_rate': 0.001, 'lambd': 0.01, 'h_dim': 30, 'activation': 'relu'}\n",
      "0.725794 (0.018099) with: {'optimizer': 'sgd', 'n_layers': 1, 'momentum': 0.5, 'learning_rate': 0.0001, 'lambd': 0, 'h_dim': 50, 'activation': 'relu'}\n",
      "0.587909 (0.009200) with: {'optimizer': 'sgd', 'n_layers': 2, 'momentum': 0.8, 'learning_rate': 0.0001, 'lambd': 0.1, 'h_dim': 50, 'activation': 'relu'}\n",
      "0.736053 (0.016582) with: {'optimizer': 'adam', 'n_layers': 3, 'momentum': 0.5, 'learning_rate': 0.001, 'lambd': 0.01, 'h_dim': 30, 'activation': 'relu'}\n",
      "0.699987 (0.016746) with: {'optimizer': 'sgd', 'n_layers': 3, 'momentum': 0.8, 'learning_rate': 0.1, 'lambd': 0.01, 'h_dim': 30, 'activation': 'relu'}\n",
      "0.677131 (0.026345) with: {'optimizer': 'sgd', 'n_layers': 3, 'momentum': 0.8, 'learning_rate': 0.1, 'lambd': 0.01, 'h_dim': 50, 'activation': 'relu'}\n",
      "0.731543 (0.010454) with: {'optimizer': 'sgd', 'n_layers': 2, 'momentum': 0.8, 'learning_rate': 0.01, 'lambd': 0, 'h_dim': 50, 'activation': 'relu'}\n",
      "0.723929 (0.015666) with: {'optimizer': 'sgd', 'n_layers': 2, 'momentum': 0.5, 'learning_rate': 0.1, 'lambd': 0, 'h_dim': 30, 'activation': 'relu'}\n",
      "0.587909 (0.009200) with: {'optimizer': 'adam', 'n_layers': 2, 'momentum': 0.5, 'learning_rate': 0.1, 'lambd': 0, 'h_dim': 128, 'activation': 'relu'}\n",
      "0.730920 (0.008559) with: {'optimizer': 'sgd', 'n_layers': 3, 'momentum': 0.8, 'learning_rate': 0.01, 'lambd': 0.01, 'h_dim': 50, 'activation': 'relu'}\n",
      "0.684599 (0.017419) with: {'optimizer': 'sgd', 'n_layers': 3, 'momentum': 0.5, 'learning_rate': 0.0001, 'lambd': 0.01, 'h_dim': 50, 'activation': 'relu'}\n",
      "0.753306 (0.010838) with: {'optimizer': 'adam', 'n_layers': 1, 'momentum': 0.5, 'learning_rate': 0.0001, 'lambd': 0.01, 'h_dim': 128, 'activation': 'relu'}\n",
      "0.737296 (0.012277) with: {'optimizer': 'sgd', 'n_layers': 2, 'momentum': 0.5, 'learning_rate': 0.01, 'lambd': 0.01, 'h_dim': 128, 'activation': 'relu'}\n",
      "0.730608 (0.006763) with: {'optimizer': 'sgd', 'n_layers': 3, 'momentum': 0.8, 'learning_rate': 0.01, 'lambd': 0.01, 'h_dim': 30, 'activation': 'relu'}\n",
      "0.752530 (0.013261) with: {'optimizer': 'adam', 'n_layers': 1, 'momentum': 0.8, 'learning_rate': 0.0001, 'lambd': 0.01, 'h_dim': 50, 'activation': 'relu'}\n",
      "0.742427 (0.017822) with: {'optimizer': 'sgd', 'n_layers': 1, 'momentum': 0.8, 'learning_rate': 0.0001, 'lambd': 0.01, 'h_dim': 30, 'activation': 'relu'}\n",
      "0.655066 (0.021019) with: {'optimizer': 'sgd', 'n_layers': 1, 'momentum': 0.5, 'learning_rate': 0.1, 'lambd': 0.1, 'h_dim': 50, 'activation': 'relu'}\n",
      "0.743672 (0.017794) with: {'optimizer': 'adam', 'n_layers': 3, 'momentum': 0.8, 'learning_rate': 0.0001, 'lambd': 0.01, 'h_dim': 50, 'activation': 'relu'}\n",
      "0.587909 (0.009200) with: {'optimizer': 'adam', 'n_layers': 1, 'momentum': 0.5, 'learning_rate': 0.1, 'lambd': 0.01, 'h_dim': 30, 'activation': 'relu'}\n",
      "0.724396 (0.017308) with: {'optimizer': 'sgd', 'n_layers': 2, 'momentum': 0.8, 'learning_rate': 0.01, 'lambd': 0.001, 'h_dim': 128, 'activation': 'relu'}\n",
      "0.587909 (0.009200) with: {'optimizer': 'adam', 'n_layers': 1, 'momentum': 0.8, 'learning_rate': 0.1, 'lambd': 0.001, 'h_dim': 30, 'activation': 'relu'}\n",
      "0.740253 (0.020028) with: {'optimizer': 'adam', 'n_layers': 1, 'momentum': 0.5, 'learning_rate': 0.0001, 'lambd': 0, 'h_dim': 30, 'activation': 'relu'}\n",
      "0.692525 (0.015627) with: {'optimizer': 'adam', 'n_layers': 1, 'momentum': 0.5, 'learning_rate': 0.01, 'lambd': 0.01, 'h_dim': 50, 'activation': 'relu'}\n",
      "0.748021 (0.013998) with: {'optimizer': 'sgd', 'n_layers': 3, 'momentum': 0.5, 'learning_rate': 0.001, 'lambd': 0.01, 'h_dim': 50, 'activation': 'relu'}\n",
      "0.587909 (0.009200) with: {'optimizer': 'sgd', 'n_layers': 3, 'momentum': 0.5, 'learning_rate': 0.1, 'lambd': 0.1, 'h_dim': 50, 'activation': 'relu'}\n",
      "0.719574 (0.009334) with: {'optimizer': 'adam', 'n_layers': 2, 'momentum': 0.5, 'learning_rate': 0.01, 'lambd': 0.001, 'h_dim': 30, 'activation': 'relu'}\n",
      "0.587909 (0.009200) with: {'optimizer': 'adam', 'n_layers': 3, 'momentum': 0.5, 'learning_rate': 0.0001, 'lambd': 0.1, 'h_dim': 30, 'activation': 'relu'}\n",
      "0.724707 (0.017793) with: {'optimizer': 'sgd', 'n_layers': 2, 'momentum': 0.8, 'learning_rate': 0.1, 'lambd': 0.001, 'h_dim': 30, 'activation': 'relu'}\n",
      "0.701700 (0.017455) with: {'optimizer': 'sgd', 'n_layers': 1, 'momentum': 0.5, 'learning_rate': 0.1, 'lambd': 0.01, 'h_dim': 50, 'activation': 'relu'}\n",
      "0.587909 (0.009200) with: {'optimizer': 'sgd', 'n_layers': 2, 'momentum': 0.5, 'learning_rate': 0.1, 'lambd': 0.1, 'h_dim': 30, 'activation': 'relu'}\n",
      "0.736987 (0.018155) with: {'optimizer': 'adam', 'n_layers': 2, 'momentum': 0.5, 'learning_rate': 0.0001, 'lambd': 0.001, 'h_dim': 128, 'activation': 'relu'}\n",
      "0.587909 (0.009200) with: {'optimizer': 'adam', 'n_layers': 3, 'momentum': 0.5, 'learning_rate': 0.01, 'lambd': 0.1, 'h_dim': 128, 'activation': 'relu'}\n",
      "0.719576 (0.017161) with: {'optimizer': 'sgd', 'n_layers': 1, 'momentum': 0.5, 'learning_rate': 0.1, 'lambd': 0.001, 'h_dim': 30, 'activation': 'relu'}\n",
      "0.738540 (0.013305) with: {'optimizer': 'adam', 'n_layers': 2, 'momentum': 0.5, 'learning_rate': 0.001, 'lambd': 0.01, 'h_dim': 50, 'activation': 'relu'}\n"
     ]
    }
   ],
   "source": [
    "# results random search - avg 5 fold cv\n",
    "print(\"Best: %f using %s\" % (rnd_result.best_score_, rnd_result.best_params_))\n",
    "means = rnd_result.cv_results_['mean_test_score']\n",
    "stds = rnd_result.cv_results_['std_test_score']\n",
    "params = rnd_result.cv_results_['params']\n",
    "\n",
    "for mean, stdev, param in zip(means, stds, params):\n",
    "    print(\"%f (%f) with: %r\" % (mean, stdev, param))"
   ]
  },
  {
   "cell_type": "markdown",
   "metadata": {},
   "source": [
    "###### Result Coarse Random-Search:\n",
    "Best Model:\n",
    "- 0.753306 mean validation accuracy \n",
    "- using {'optimizer': 'adam', 'n_layers': 1, 'momentum': 0.5, 'learning_rate': 0.0001, 'lambd': 0.01, 'h_dim': 128, 'activation': 'relu'}"
   ]
  },
  {
   "cell_type": "markdown",
   "metadata": {},
   "source": [
    "After searching for other Model topology and parameters, we chose a model with 2 hidden layers. "
   ]
  },
  {
   "cell_type": "markdown",
   "metadata": {},
   "source": [
    "# Retrain on Development Set and Test it"
   ]
  },
  {
   "cell_type": "markdown",
   "metadata": {},
   "source": [
    "**Best Model Architecture:**<br>\n",
    "\n",
    "- Layers: (518, 60, 20, 1)<br>\n",
    "- Activation functions: (ReLU, Sigmoid)<br>\n",
    "- Weight Initialization: GlorotNormal<br>\n",
    "- Optimizer: SGD with Nesterov momentum<br>\n",
    "- Loss: Binary cross entropy <br>\n",
    "- Learning rate: 0.001122<br>\n",
    "- Momentum: 0.79342<br>\n",
    "- L2 Regularization: 0.11744 <br>\n",
    "\n",
    "The model is retrained on the full Development set (Training set + Internal Test set) and then tested on the Test set which was never used in the Model selection phase."
   ]
  },
  {
   "cell_type": "code",
   "execution_count": 793,
   "metadata": {},
   "outputs": [
    {
     "name": "stdout",
     "output_type": "stream",
     "text": [
      "Model: \"sequential_154\"\n",
      "_________________________________________________________________\n",
      "Layer (type)                 Output Shape              Param #   \n",
      "=================================================================\n",
      "dense_451 (Dense)            (None, 60)                31140     \n",
      "_________________________________________________________________\n",
      "dense_452 (Dense)            (None, 20)                1220      \n",
      "_________________________________________________________________\n",
      "dense_453 (Dense)            (None, 1)                 21        \n",
      "=================================================================\n",
      "Total params: 32,381\n",
      "Trainable params: 32,381\n",
      "Non-trainable params: 0\n",
      "_________________________________________________________________\n"
     ]
    }
   ],
   "source": [
    "model_final = MLP_best()\n",
    "\n",
    "# define optimizer\n",
    "sgd = SGD(learning_rate=0.0011222982488957825, momentum=0.7934243001699697, nesterov=True\n",
    ")\n",
    "model_final.compile(optimizer=sgd, loss='binary_crossentropy', metrics=['accuracy'])\n",
    "# print model information\n",
    "model_final.summary()"
   ]
  },
  {
   "cell_type": "code",
   "execution_count": 809,
   "metadata": {},
   "outputs": [],
   "source": [
    "history_final= model_final.fit(X_dev, y_dev, epochs= 700, batch_size=120, shuffle=True).history"
   ]
  },
  {
   "cell_type": "markdown",
   "metadata": {},
   "source": [
    "The **expected loss on the test set is 0.5208** with an accuracy of **78.61%**"
   ]
  },
  {
   "cell_type": "markdown",
   "metadata": {},
   "source": [
    "## Test the model on the test set"
   ]
  },
  {
   "cell_type": "code",
   "execution_count": 795,
   "metadata": {},
   "outputs": [
    {
     "name": "stdout",
     "output_type": "stream",
     "text": [
      "124/124 [==============================] - 0s 2ms/step - loss: 0.5850 - accuracy: 0.7550\n"
     ]
    },
    {
     "data": {
      "text/plain": [
       "[0.5850498676300049, 0.7550139427185059]"
      ]
     },
     "execution_count": 795,
     "metadata": {},
     "output_type": "execute_result"
    }
   ],
   "source": [
    "# evaluate on Test set\n",
    "model_best.evaluate(X_test,y_test)"
   ]
  },
  {
   "cell_type": "markdown",
   "metadata": {},
   "source": [
    "The **actual loss on the test set is 0.5850** which is almost in line to the prediction made before. The **accuracy instead is 75.50%**. The accuracy was off by a factor of almost 2% points."
   ]
  },
  {
   "cell_type": "code",
   "execution_count": 799,
   "metadata": {},
   "outputs": [
    {
     "name": "stdout",
     "output_type": "stream",
     "text": [
      "124/124 - 0s\n",
      "Accuracy 0.7605991368367606\n",
      "F1-score [0.71117917 0.79557772]\n",
      "              precision    recall  f1-score   support\n",
      "\n",
      "           0       0.71      0.72      0.71      1622\n",
      "           1       0.80      0.79      0.80      2317\n",
      "\n",
      "    accuracy                           0.76      3939\n",
      "   macro avg       0.75      0.75      0.75      3939\n",
      "weighted avg       0.76      0.76      0.76      3939\n",
      "\n"
     ]
    }
   ],
   "source": [
    "# test set results\n",
    "threshold = 0.51\n",
    "# convert prediciton to binary \n",
    "y_pred = model_final.predict(X_test, verbose=2)\n",
    "y_pred = y_pred > threshold\n",
    "\n",
    "print('Accuracy %s' % accuracy_score(y_test, y_pred))\n",
    "print('F1-score %s' % f1_score(y_test, y_pred, average=None))\n",
    "print(classification_report(y_test, y_pred))"
   ]
  },
  {
   "cell_type": "code",
   "execution_count": 804,
   "metadata": {},
   "outputs": [],
   "source": [
    "from sklearn.metrics import confusion_matrix\n",
    "from sklearn.metrics import roc_curve,auc"
   ]
  },
  {
   "cell_type": "code",
   "execution_count": 805,
   "metadata": {},
   "outputs": [],
   "source": [
    "# utility function\n",
    "def make_confusion_matrix( cfm, title):\n",
    "    group_names = ['TN','FP','FN','TP']\n",
    "\n",
    "    group_counts = [\"{0:0.0f}\".format(value) for value in\n",
    "                cfm.flatten()]\n",
    "\n",
    "    group_percentages = [\"{0:.2%}\".format(value) for value in\n",
    "                     cfm.flatten()/np.sum(cf_matrix)]\n",
    "\n",
    "    labels = [f\"{v1}\\n{v2}\\n{v3}\" for v1, v2, v3 in\n",
    "          zip(group_names,group_counts,group_percentages)]\n",
    "\n",
    "    labels = np.asarray(labels).reshape(2,2)\n",
    "    plt.title(title)\n",
    "    \n",
    "    sns.heatmap(cfm, annot=labels, fmt=\"\", cmap='Blues')\n",
    "    plt.ylabel('True Label', fontsize=12)\n",
    "    plt.xlabel('Predicted',fontsize=12)"
   ]
  },
  {
   "cell_type": "code",
   "execution_count": 806,
   "metadata": {},
   "outputs": [],
   "source": [
    "def plot_roc_curve(y_test, prediction, name_model):\n",
    "    test_fpr, test_tpr, te_thresholds = roc_curve(y_test, prediction)\n",
    "\n",
    "    plt.grid()\n",
    "    auc_score = round(auc(test_fpr, test_tpr),2)\n",
    "    plt.plot(test_fpr, test_tpr, label=f\"{name_model} - AUC =\"+ str(auc_score))\n",
    "    plt.plot([0,1],[0,1],'r--')\n",
    "    plt.legend()\n",
    "    plt.xlabel(\"True Positive Rate\")\n",
    "    plt.ylabel(\"False Positive Rate\")\n",
    "    plt.title(f\" AUC(ROC curve) - {name_model}\")\n",
    "    plt.grid(color='black', linestyle='', linewidth=0.5)\n",
    "    plt.show()"
   ]
  },
  {
   "cell_type": "code",
   "execution_count": 807,
   "metadata": {},
   "outputs": [
    {
     "data": {
      "image/png": "[encoded data removed]",
      "text/plain": [
       "<Figure size 432x288 with 2 Axes>"
      ]
     },
     "metadata": {
      "needs_background": "light"
     },
     "output_type": "display_data"
    }
   ],
   "source": [
    "cf_matrix = confusion_matrix(y_test, y_pred)\n",
    "make_confusion_matrix(cf_matrix,'MLP Confusion Matrix')"
   ]
  },
  {
   "cell_type": "code",
   "execution_count": 808,
   "metadata": {},
   "outputs": [
    {
     "data": {
      "image/png": "[encoded data removed]",
      "text/plain": [
       "<Figure size 432x288 with 1 Axes>"
      ]
     },
     "metadata": {
      "needs_background": "light"
     },
     "output_type": "display_data"
    }
   ],
   "source": [
    "plot_roc_curve(y_test, y_pred, 'MLP')"
   ]
  }
 ],
 "metadata": {
  "kernelspec": {
   "display_name": "Python 3",
   "language": "python",
   "name": "python3"
  },
  "language_info": {
   "codemirror_mode": {
    "name": "ipython",
    "version": 3
   },
   "file_extension": ".py",
   "mimetype": "text/x-python",
   "name": "python",
   "nbconvert_exporter": "python",
   "pygments_lexer": "ipython3",
   "version": "3.7.4"
  }
 },
 "nbformat": 4,
 "nbformat_minor": 2
}
